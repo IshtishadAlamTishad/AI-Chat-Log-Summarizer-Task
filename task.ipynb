{
 "cells": [
  {
   "cell_type": "markdown",
   "id": "7db9eab8",
   "metadata": {},
   "source": [
    "### Importing Necessary libraries"
   ]
  },
  {
   "cell_type": "code",
   "execution_count": 1,
   "id": "b0f82c03",
   "metadata": {},
   "outputs": [],
   "source": [
    "import tensorflow as tf\n",
    "import matplotlib.pyplot as plt\n",
    "import numpy as np\n",
    "from collections import Counter\n",
    "import nltk\n",
    "from nltk.corpus import stopwords\n",
    "from sklearn.feature_extraction.text import TfidfVectorizer\n",
    "import string"
   ]
  },
  {
   "cell_type": "code",
   "execution_count": 2,
   "id": "bac2d1bc",
   "metadata": {},
   "outputs": [
    {
     "name": "stderr",
     "output_type": "stream",
     "text": [
      "[nltk_data] Downloading package stopwords to\n",
      "[nltk_data]     C:\\Users\\tisha\\AppData\\Roaming\\nltk_data...\n",
      "[nltk_data]   Package stopwords is already up-to-date!\n"
     ]
    },
    {
     "data": {
      "text/plain": [
       "True"
      ]
     },
     "execution_count": 2,
     "metadata": {},
     "output_type": "execute_result"
    }
   ],
   "source": [
    "nltk.download('stopwords')"
   ]
  },
  {
   "cell_type": "markdown",
   "id": "af359bc4",
   "metadata": {},
   "source": [
    "for parsing i have written a parsingFunc which takes a text file as file path\n",
    "\n",
    "*added encoding to avoid decoding errors"
   ]
  },
  {
   "cell_type": "code",
   "execution_count": 3,
   "id": "e941dcd3",
   "metadata": {},
   "outputs": [],
   "source": [
    "def parsingFunc(file_path):\n",
    "    userMsgs = []\n",
    "    aiMsgs = []\n",
    "    \n",
    "    with open(file_path,'r',encoding='utf-8') as f:\n",
    "        for line in f:\n",
    "            line = line.strip()\n",
    "    \n",
    "            if line.startswith(\"User :\"):\n",
    "                userMsgs.append(line[6:].strip())\n",
    "            elif line.startswith(\"AI :\"):\n",
    "                aiMsgs.append(line[4:].strip())\n",
    "    \n",
    "    return userMsgs,aiMsgs"
   ]
  },
  {
   "cell_type": "markdown",
   "id": "70f9f940",
   "metadata": {},
   "source": [
    "testing debugging the parsing function"
   ]
  },
  {
   "cell_type": "code",
   "execution_count": 4,
   "id": "c64e6a99",
   "metadata": {},
   "outputs": [],
   "source": [
    "x = parsingFunc(\"T:/CodeBase/Python/Task/data.txt\");"
   ]
  },
  {
   "cell_type": "code",
   "execution_count": 5,
   "id": "211dc163",
   "metadata": {},
   "outputs": [
    {
     "data": {
      "text/plain": [
       "2"
      ]
     },
     "execution_count": 5,
     "metadata": {},
     "output_type": "execute_result"
    }
   ],
   "source": [
    "len(x)"
   ]
  },
  {
   "cell_type": "markdown",
   "id": "c96e6d62",
   "metadata": {},
   "source": [
    "the parsing function returns 2 lists usermsg and aiMsg .this is for formatting and seperating msgs for analysis"
   ]
  },
  {
   "cell_type": "code",
   "execution_count": 6,
   "id": "53548201",
   "metadata": {},
   "outputs": [
    {
     "name": "stdout",
     "output_type": "stream",
     "text": [
      "(['Hello, how are you?', 'Tell me about machine learning.'], [\"I'm good, thank you! How can I assist?\", 'Machine learning is a field of AI that enables systems to learn from data.'])\n"
     ]
    }
   ],
   "source": [
    "print(x)"
   ]
  },
  {
   "cell_type": "markdown",
   "id": "619c087d",
   "metadata": {},
   "source": [
    "i have written a tokenizer function for lowercases text,removes punctuation,splits and filters alphabetic tokens"
   ]
  },
  {
   "cell_type": "code",
   "execution_count": 7,
   "id": "2bfed982",
   "metadata": {},
   "outputs": [],
   "source": [
    "def tokenizerFunc(text):\n",
    "    text = text.lower()\n",
    "    for p in string.punctuation:\n",
    "        text = text.replace(p, \" \")\n",
    "    tokens = text.split()\n",
    "    return [word for word in tokens if word.isalpha()]"
   ]
  },
  {
   "cell_type": "code",
   "execution_count": 8,
   "id": "999a350a",
   "metadata": {},
   "outputs": [],
   "source": [
    "text = \"i love coding and my hobby is to play pool\""
   ]
  },
  {
   "cell_type": "code",
   "execution_count": 9,
   "id": "b0ea2c15",
   "metadata": {},
   "outputs": [],
   "source": [
    "a = tokenizerFunc(text)"
   ]
  },
  {
   "cell_type": "markdown",
   "id": "1fd848e5",
   "metadata": {},
   "source": [
    "tokenized words sequentially showing"
   ]
  },
  {
   "cell_type": "code",
   "execution_count": 10,
   "id": "a3ca7a35",
   "metadata": {},
   "outputs": [
    {
     "name": "stdout",
     "output_type": "stream",
     "text": [
      "['i', 'love', 'coding', 'and', 'my', 'hobby', 'is', 'to', 'play', 'pool']\n"
     ]
    }
   ],
   "source": [
    "print(a)"
   ]
  },
  {
   "cell_type": "markdown",
   "id": "209df7f5",
   "metadata": {},
   "source": [
    "added keyword function tp filter stop words and counts word frequency"
   ]
  },
  {
   "cell_type": "code",
   "execution_count": 11,
   "id": "dcdb4cec",
   "metadata": {},
   "outputs": [],
   "source": [
    "def keysFunc(self):\n",
    "    \n",
    "    words = {\n",
    "        'i','me','my','he','she','would','was','were','very'\n",
    "    }\n",
    "\n",
    "    comTxt = ' '.join(self.uMsg + self.aiMsg)\n",
    "    words = self.tokenizerFunc(comTxt)\n",
    "    filtered = [word for word in words if word not in words]\n",
    "    self.wordFre = Counter(filtered)"
   ]
  },
  {
   "cell_type": "markdown",
   "id": "fde49b69",
   "metadata": {},
   "source": [
    "added summary function for output view"
   ]
  },
  {
   "cell_type": "code",
   "execution_count": null,
   "id": "d3423978",
   "metadata": {},
   "outputs": [],
   "source": [
    "def summaryFunc(userMsgs,aiMsgs):\n",
    "    totalExchanges = len(userMsgs)+len(aiMsgs)\n",
    "    keywords = keysFunc(userMsgs,top_n=5) \n",
    "    \n",
    "    if keywords:\n",
    "        topic = ', '.join(keywords).capitalize()\n",
    "        keywordsStr = ', '.join(keywords)\n",
    "    else:\n",
    "        topic = \"many topics\"\n",
    "        keywordsStr = \"no significant keywords extracted!\"\n",
    "    \n",
    "    summary = (\n",
    "        f\"Summary:\\n\"\n",
    "        f\"- The conversation had {totalExchanges} exchanges.\\n\"\n",
    "        f\"- The user asked mainly about {topic}.\\n\"\n",
    "        f\"- Most common keywords: {keywordsStr}.\"\n",
    "    )\n",
    "    \n",
    "    return summary"
   ]
  }
 ],
 "metadata": {
  "kernelspec": {
   "display_name": "Python 3",
   "language": "python",
   "name": "python3"
  },
  "language_info": {
   "codemirror_mode": {
    "name": "ipython",
    "version": 3
   },
   "file_extension": ".py",
   "mimetype": "text/x-python",
   "name": "python",
   "nbconvert_exporter": "python",
   "pygments_lexer": "ipython3",
   "version": "3.12.5"
  }
 },
 "nbformat": 4,
 "nbformat_minor": 5
}
