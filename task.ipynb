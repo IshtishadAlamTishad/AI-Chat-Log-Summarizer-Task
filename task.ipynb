{
 "cells": [
  {
   "cell_type": "markdown",
   "id": "7db9eab8",
   "metadata": {},
   "source": [
    "### Importing Necessary libraries"
   ]
  },
  {
   "cell_type": "code",
   "execution_count": null,
   "id": "b0f82c03",
   "metadata": {},
   "outputs": [],
   "source": [
    "import tensorflow as tf\n",
    "import matplotlib.pyplot as plt\n",
    "import numpy as np\n",
    "\n",
    "import nltk\n",
    "from nltk.corpus import stopwords\n",
    "from sklearn.feature_extraction.text import TfidfVectorizer\n",
    "import string"
   ]
  },
  {
   "cell_type": "code",
   "execution_count": 37,
   "id": "bac2d1bc",
   "metadata": {},
   "outputs": [
    {
     "name": "stderr",
     "output_type": "stream",
     "text": [
      "[nltk_data] Downloading package stopwords to\n",
      "[nltk_data]     C:\\Users\\tisha\\AppData\\Roaming\\nltk_data...\n",
      "[nltk_data]   Package stopwords is already up-to-date!\n"
     ]
    },
    {
     "data": {
      "text/plain": [
       "True"
      ]
     },
     "execution_count": 37,
     "metadata": {},
     "output_type": "execute_result"
    }
   ],
   "source": [
    "nltk.download('stopwords')"
   ]
  },
  {
   "cell_type": "markdown",
   "id": "af359bc4",
   "metadata": {},
   "source": [
    "for parsing i have written a parsingFunc which takes a text file as file path\n",
    "\n",
    "*added encoding to avoid decoding errors"
   ]
  },
  {
   "cell_type": "code",
   "execution_count": null,
   "id": "e941dcd3",
   "metadata": {},
   "outputs": [],
   "source": [
    "def parsingFunc(file_path):\n",
    "    userMsgs = []\n",
    "    aiMsgs = []\n",
    "    \n",
    "    with open(file_path,'r',encoding='utf-8') as f:\n",
    "        for line in f:\n",
    "            line = line.strip()\n",
    "    \n",
    "            if line.startswith(\"User :\"):\n",
    "                userMsgs.append(line[6:].strip())\n",
    "            elif line.startswith(\"AI :\"):\n",
    "                aiMsgs.append(line[4:].strip())\n",
    "    \n",
    "    return userMsgs,aiMsgs"
   ]
  },
  {
   "cell_type": "markdown",
   "id": "70f9f940",
   "metadata": {},
   "source": [
    "testing debugging the parsing function"
   ]
  },
  {
   "cell_type": "code",
   "execution_count": 39,
   "id": "c64e6a99",
   "metadata": {},
   "outputs": [],
   "source": [
    "x = parsingFunc(\"T:/CodeBase/Python/Task/data.txt\");"
   ]
  },
  {
   "cell_type": "code",
   "execution_count": 40,
   "id": "211dc163",
   "metadata": {},
   "outputs": [
    {
     "data": {
      "text/plain": [
       "2"
      ]
     },
     "execution_count": 40,
     "metadata": {},
     "output_type": "execute_result"
    }
   ],
   "source": [
    "len(x)"
   ]
  },
  {
   "cell_type": "code",
   "execution_count": 41,
   "id": "53548201",
   "metadata": {},
   "outputs": [
    {
     "name": "stdout",
     "output_type": "stream",
     "text": [
      "([], [])\n"
     ]
    }
   ],
   "source": [
    "print(x)"
   ]
  },
  {
   "cell_type": "markdown",
   "id": "619c087d",
   "metadata": {},
   "source": [
    "continued...."
   ]
  },
  {
   "cell_type": "code",
   "execution_count": null,
   "id": "2bfed982",
   "metadata": {},
   "outputs": [],
   "source": []
  },
  {
   "cell_type": "code",
   "execution_count": null,
   "id": "dcdb4cec",
   "metadata": {},
   "outputs": [],
   "source": []
  },
  {
   "cell_type": "code",
   "execution_count": null,
   "id": "d3423978",
   "metadata": {},
   "outputs": [],
   "source": []
  }
 ],
 "metadata": {
  "kernelspec": {
   "display_name": "Python 3",
   "language": "python",
   "name": "python3"
  },
  "language_info": {
   "codemirror_mode": {
    "name": "ipython",
    "version": 3
   },
   "file_extension": ".py",
   "mimetype": "text/x-python",
   "name": "python",
   "nbconvert_exporter": "python",
   "pygments_lexer": "ipython3",
   "version": "3.12.5"
  }
 },
 "nbformat": 4,
 "nbformat_minor": 5
}
