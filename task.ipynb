{
 "cells": [
  {
   "cell_type": "code",
   "execution_count": null,
   "id": "663bd778",
   "metadata": {},
   "outputs": [],
   "source": [
    "import nltk\n",
    "from nltk.corpus import stopwords\n",
    "from sklearn.feature_extraction.text import TfidfVectorizer\n",
    "import string"
   ]
  },
  {
   "cell_type": "code",
   "execution_count": null,
   "id": "bac2d1bc",
   "metadata": {},
   "outputs": [],
   "source": [
    "nltk.download('stopwords')"
   ]
  },
  {
   "cell_type": "code",
   "execution_count": null,
   "id": "e941dcd3",
   "metadata": {},
   "outputs": [],
   "source": [
    "def parsingFunc(file_path):\n",
    "    userMsgs = []\n",
    "    aiMsgs = []\n",
    "    with open(file_path, 'r', encoding='utf-8') as f:\n",
    "        for line in f:\n",
    "            line = line.strip()\n",
    "            if line.startswith(\"User :\"):\n",
    "                userMsgs.append(line[6:].strip())\n",
    "            elif line.startswith(\"AI :\"):\n",
    "                aiMsgs.append(line[4:].strip())\n",
    "    return userMsgs, aiMsgs"
   ]
  },
  {
   "cell_type": "code",
   "execution_count": null,
   "id": "7dba529b",
   "metadata": {},
   "outputs": [],
   "source": []
  },
  {
   "cell_type": "code",
   "execution_count": null,
   "id": "cb34f2b9",
   "metadata": {},
   "outputs": [],
   "source": []
  }
 ],
 "metadata": {
  "language_info": {
   "name": "python"
  }
 },
 "nbformat": 4,
 "nbformat_minor": 5
}
